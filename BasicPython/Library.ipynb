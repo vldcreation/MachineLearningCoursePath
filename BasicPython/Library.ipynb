{
 "cells": [
  {
   "cell_type": "code",
   "metadata": {
    "tags": [],
    "cell_id": "00000-519a2d88-674f-4b1e-ac85-e2d127921bfb",
    "deepnote_to_be_reexecuted": false,
    "source_hash": "c55e3622",
    "execution_start": 1637626758115,
    "execution_millis": 43,
    "deepnote_cell_type": "code"
   },
   "source": "import pickle\n# https://docs.python.org/3/library/pickle.html#module-pickle\ncontoh_dictionary = {1:\"6\", 2:\"2\", 3:\"f\"}\npickle_keluar = open(\"../data/dict.pickle\",\"wb\")\npickle.dump(contoh_dictionary, pickle_keluar)\npickle_keluar.close()",
   "execution_count": 2,
   "outputs": []
  },
  {
   "cell_type": "code",
   "metadata": {
    "tags": [],
    "cell_id": "00001-c2c6f408-2fa6-42e6-af01-793fb18043a8",
    "deepnote_to_be_reexecuted": false,
    "source_hash": "86698b6e",
    "execution_start": 1637630098536,
    "execution_millis": 30,
    "deepnote_output_heights": [
     174.75
    ],
    "deepnote_cell_type": "code"
   },
   "source": "import pickle\np = open(\"../data/dict.pickle\",\"rb\")\ndf = pickle.load(p)\nprint(df)",
   "execution_count": 27,
   "outputs": [
    {
     "name": "stdout",
     "text": "{1: '6', 2: '2', 3: 'f'}\n",
     "output_type": "stream"
    }
   ]
  },
  {
   "cell_type": "code",
   "metadata": {
    "tags": [],
    "cell_id": "00002-ca4b2ef2-29fb-4eae-a20e-d912457f95f6",
    "deepnote_to_be_reexecuted": false,
    "source_hash": "60550a88",
    "execution_start": 1637627521939,
    "execution_millis": 607,
    "deepnote_output_heights": [
     21.1875
    ],
    "deepnote_cell_type": "code"
   },
   "source": "# Scrapping\n# urrlib => https://docs.python.org/3/library/urllib.html\n# BeutifulSoup => https://www.crummy.com/software/BeautifulSoup/bs4/doc/\n# Urllib\nfrom urllib.request import urlopen\nfrom bs4 import BeautifulSoup\nurl = \"http://developer.floreslibrary.site/\"\npage = urlopen(url)\nhtml = page.read().decode(\"utf-8\")\nstart_index = html.find(\"<title>\") + len(\"<title>\")\nend_index = html.find(\"</title>\")\ntitle = html[start_index:end_index]\n# title\n\n# BeutiflSoup\nurl = \"http://python.org/\"\npage = urlopen(url)\nhtml = page.read().decode(\"utf-8\")\nsoup = BeautifulSoup(html, \"html.parser\")\nstr(soup.title).strip('</title>')\n",
   "execution_count": 21,
   "outputs": [
    {
     "output_type": "execute_result",
     "execution_count": 21,
     "data": {
      "text/plain": "'Welcome to Python.org'"
     },
     "metadata": {}
    }
   ]
  },
  {
   "cell_type": "code",
   "metadata": {
    "tags": [],
    "cell_id": "00003-d3213c31-970f-457b-9789-d863109a9c87",
    "deepnote_to_be_reexecuted": false,
    "source_hash": "ed329c87",
    "execution_start": 1637627437314,
    "execution_millis": 4419,
    "deepnote_cell_type": "code"
   },
   "source": "# !pip install beautifulsoup4",
   "execution_count": 17,
   "outputs": [
    {
     "name": "stdout",
     "text": "Collecting beautifulsoup4\n  Downloading beautifulsoup4-4.10.0-py3-none-any.whl (97 kB)\n\u001b[K     |████████████████████████████████| 97 kB 9.1 MB/s \n\u001b[?25hCollecting soupsieve>1.2\n  Downloading soupsieve-2.3.1-py3-none-any.whl (37 kB)\nInstalling collected packages: soupsieve, beautifulsoup4\nSuccessfully installed beautifulsoup4-4.10.0 soupsieve-2.3.1\n\u001b[33mWARNING: You are using pip version 21.1.1; however, version 21.3.1 is available.\nYou should consider upgrading via the '/root/venv/bin/python -m pip install --upgrade pip' command.\u001b[0m\n",
     "output_type": "stream"
    }
   ]
  },
  {
   "cell_type": "code",
   "metadata": {
    "tags": [],
    "cell_id": "00004-bc44ccc2-ddd9-4e4d-91ac-4360ab745e16",
    "deepnote_to_be_reexecuted": false,
    "source_hash": "d6a80c8b",
    "execution_start": 1637629474235,
    "execution_millis": 7,
    "deepnote_output_heights": [
     21.1875
    ],
    "deepnote_cell_type": "code"
   },
   "source": "d = \"Halo Dicoding!\"\nprint(type(d))",
   "execution_count": 25,
   "outputs": [
    {
     "name": "stdout",
     "text": "<class 'str'>\n",
     "output_type": "stream"
    }
   ]
  },
  {
   "cell_type": "markdown",
   "source": "<a style='text-decoration:none;line-height:16px;display:flex;color:#5B5B62;padding:10px;justify-content:end;' href='https://deepnote.com?utm_source=created-in-deepnote-cell&projectId=f5fe3404-7e72-4b0a-b35c-428fae106643' target=\"_blank\">\n<img alt='Created in deepnote.com' style='display:inline;max-height:16px;margin:0px;margin-right:7.5px;' src='data:image/svg+xml;base64,PD94bWwgdmVyc2lvbj0iMS4wIiBlbmNvZGluZz0iVVRGLTgiPz4KPHN2ZyB3aWR0aD0iODBweCIgaGVpZ2h0PSI4MHB4IiB2aWV3Qm94PSIwIDAgODAgODAiIHZlcnNpb249IjEuMSIgeG1sbnM9Imh0dHA6Ly93d3cudzMub3JnLzIwMDAvc3ZnIiB4bWxuczp4bGluaz0iaHR0cDovL3d3dy53My5vcmcvMTk5OS94bGluayI+CiAgICA8IS0tIEdlbmVyYXRvcjogU2tldGNoIDU0LjEgKDc2NDkwKSAtIGh0dHBzOi8vc2tldGNoYXBwLmNvbSAtLT4KICAgIDx0aXRsZT5Hcm91cCAzPC90aXRsZT4KICAgIDxkZXNjPkNyZWF0ZWQgd2l0aCBTa2V0Y2guPC9kZXNjPgogICAgPGcgaWQ9IkxhbmRpbmciIHN0cm9rZT0ibm9uZSIgc3Ryb2tlLXdpZHRoPSIxIiBmaWxsPSJub25lIiBmaWxsLXJ1bGU9ImV2ZW5vZGQiPgogICAgICAgIDxnIGlkPSJBcnRib2FyZCIgdHJhbnNmb3JtPSJ0cmFuc2xhdGUoLTEyMzUuMDAwMDAwLCAtNzkuMDAwMDAwKSI+CiAgICAgICAgICAgIDxnIGlkPSJHcm91cC0zIiB0cmFuc2Zvcm09InRyYW5zbGF0ZSgxMjM1LjAwMDAwMCwgNzkuMDAwMDAwKSI+CiAgICAgICAgICAgICAgICA8cG9seWdvbiBpZD0iUGF0aC0yMCIgZmlsbD0iIzAyNjVCNCIgcG9pbnRzPSIyLjM3NjIzNzYyIDgwIDM4LjA0NzY2NjcgODAgNTcuODIxNzgyMiA3My44MDU3NTkyIDU3LjgyMTc4MjIgMzIuNzU5MjczOSAzOS4xNDAyMjc4IDMxLjY4MzE2ODMiPjwvcG9seWdvbj4KICAgICAgICAgICAgICAgIDxwYXRoIGQ9Ik0zNS4wMDc3MTgsODAgQzQyLjkwNjIwMDcsNzYuNDU0OTM1OCA0Ny41NjQ5MTY3LDcxLjU0MjI2NzEgNDguOTgzODY2LDY1LjI2MTk5MzkgQzUxLjExMjI4OTksNTUuODQxNTg0MiA0MS42NzcxNzk1LDQ5LjIxMjIyODQgMjUuNjIzOTg0Niw0OS4yMTIyMjg0IEMyNS40ODQ5Mjg5LDQ5LjEyNjg0NDggMjkuODI2MTI5Niw0My4yODM4MjQ4IDM4LjY0NzU4NjksMzEuNjgzMTY4MyBMNzIuODcxMjg3MSwzMi41NTQ0MjUgTDY1LjI4MDk3Myw2Ny42NzYzNDIxIEw1MS4xMTIyODk5LDc3LjM3NjE0NCBMMzUuMDA3NzE4LDgwIFoiIGlkPSJQYXRoLTIyIiBmaWxsPSIjMDAyODY4Ij48L3BhdGg+CiAgICAgICAgICAgICAgICA8cGF0aCBkPSJNMCwzNy43MzA0NDA1IEwyNy4xMTQ1MzcsMC4yNTcxMTE0MzYgQzYyLjM3MTUxMjMsLTEuOTkwNzE3MDEgODAsMTAuNTAwMzkyNyA4MCwzNy43MzA0NDA1IEM4MCw2NC45NjA0ODgyIDY0Ljc3NjUwMzgsNzkuMDUwMzQxNCAzNC4zMjk1MTEzLDgwIEM0Ny4wNTUzNDg5LDc3LjU2NzA4MDggNTMuNDE4MjY3Nyw3MC4zMTM2MTAzIDUzLjQxODI2NzcsNTguMjM5NTg4NSBDNTMuNDE4MjY3Nyw0MC4xMjg1NTU3IDM2LjMwMzk1NDQsMzcuNzMwNDQwNSAyNS4yMjc0MTcsMzcuNzMwNDQwNSBDMTcuODQzMDU4NiwzNy43MzA0NDA1IDkuNDMzOTE5NjYsMzcuNzMwNDQwNSAwLDM3LjczMDQ0MDUgWiIgaWQ9IlBhdGgtMTkiIGZpbGw9IiMzNzkzRUYiPjwvcGF0aD4KICAgICAgICAgICAgPC9nPgogICAgICAgIDwvZz4KICAgIDwvZz4KPC9zdmc+' > </img>\nCreated in <span style='font-weight:600;margin-left:4px;'>Deepnote</span></a>",
   "metadata": {
    "tags": [],
    "created_in_deepnote_cell": true,
    "deepnote_cell_type": "markdown"
   }
  }
 ],
 "nbformat": 4,
 "nbformat_minor": 2,
 "metadata": {
  "orig_nbformat": 2,
  "deepnote": {
   "is_reactive": false
  },
  "deepnote_notebook_id": "97d674ed-837a-456a-aee0-a81464192485",
  "deepnote_execution_queue": []
 }
}